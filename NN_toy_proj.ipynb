{
  "nbformat": 4,
  "nbformat_minor": 0,
  "metadata": {
    "colab": {
      "name": "NN_toy_proj.ipynb",
      "version": "0.3.2",
      "provenance": []
    },
    "kernelspec": {
      "name": "python3",
      "display_name": "Python 3"
    }
  },
  "cells": [
    {
      "cell_type": "code",
      "metadata": {
        "id": "Vpc_q2cZECz0",
        "colab_type": "code",
        "colab": {}
      },
      "source": [
        "import torch\n",
        "import torch.nn as nn\n",
        "from torch.autograd import Variable\n",
        "import torch.nn.functional as F"
      ],
      "execution_count": 0,
      "outputs": []
    },
    {
      "cell_type": "code",
      "metadata": {
        "id": "0ul4jSKWENOw",
        "colab_type": "code",
        "colab": {}
      },
      "source": [
        "class Net(nn.Module):\n",
        "  \n",
        "  def __init__(self): # 여기선 사용할 layer들을 정의 해 줘야 한다.\n",
        "    super(Net, self).__init__() # 상속받고\n",
        "    \n",
        "    self.conv1 = nn.Conv2d(1, 6, 5) # conv1 객체 생성 : input ch = 1, output = 6, image = 5*5\n",
        "    self.conv2 = nn.Conv2d(6,16,5) # conv2 객체 생성 : input ch = 6, output = 16, image = 5*5\n",
        "    # an affine operation: y = Wx + b\n",
        "    self.fc1 = nn.Linear(16*4*4, 120) # fc 객체 : w = [400, 120]\n",
        "    self.fc2 = nn.Linear(120, 84)\n",
        "    self.fc3 = nn.Linear(84, 10)\n",
        "    \n",
        "  def forward(self, x): # 여기서 feed 받아서 처리 시작한다.\n",
        "    x = F.max_pool2d(F.relu(self.conv1(x)), (2, 2)) # max_pool2d (input, size)\n",
        "    x = F.max_pool2d(F.relu(self.conv2(x)), (2, 2)) \n",
        "    \n",
        "    x = x.view(x.size(0), -1)\n",
        "    x = F.relu(self.fc1(x))\n",
        "    x = F.relu(self.fc2(x))\n",
        "    x = F.relu(self.fc3(x))\n",
        "    return x\n"
      ],
      "execution_count": 0,
      "outputs": []
    },
    {
      "cell_type": "code",
      "metadata": {
        "id": "L_VJxEvGHDph",
        "colab_type": "code",
        "colab": {
          "base_uri": "https://localhost:8080/",
          "height": 141
        },
        "outputId": "bc4398dc-d2c9-4f7b-d211-1c61ca087033"
      },
      "source": [
        "# 정의된 CNN 사용\n",
        "net = Net()\n",
        "print(net)"
      ],
      "execution_count": 11,
      "outputs": [
        {
          "output_type": "stream",
          "text": [
            "Net(\n",
            "  (conv1): Conv2d(1, 6, kernel_size=(5, 5), stride=(1, 1))\n",
            "  (conv2): Conv2d(6, 16, kernel_size=(5, 5), stride=(1, 1))\n",
            "  (fc1): Linear(in_features=256, out_features=120, bias=True)\n",
            "  (fc2): Linear(in_features=120, out_features=84, bias=True)\n",
            "  (fc3): Linear(in_features=84, out_features=10, bias=True)\n",
            ")\n"
          ],
          "name": "stdout"
        }
      ]
    },
    {
      "cell_type": "code",
      "metadata": {
        "id": "e7CVmX6SB01r",
        "colab_type": "code",
        "colab": {
          "base_uri": "https://localhost:8080/",
          "height": 35
        },
        "outputId": "6df4ab87-18ad-4cd9-b751-d2a72231ccda"
      },
      "source": [
        "# torch 는 mini-batch 만 지원한다. \n",
        "# ex) nn.Conv2d는 nSamples * nChannels * Height * width\n",
        "\n",
        "input = torch.randn(1, 1, 28, 28)\n",
        "out = net(input)\n",
        "print(out.size())"
      ],
      "execution_count": 26,
      "outputs": [
        {
          "output_type": "stream",
          "text": [
            "torch.Size([1, 10])\n"
          ],
          "name": "stdout"
        }
      ]
    },
    {
      "cell_type": "code",
      "metadata": {
        "id": "b5veF2VoDqTF",
        "colab_type": "code",
        "colab": {}
      },
      "source": [
        "target = torch.tensor([3], dtype=torch.long)\n",
        "loss_fn = nn.CrossEntropyLoss()\n",
        "err = loss_fn(out, target)\n",
        "#err.backward() # err을 줄이기위한 회귀를 하겠다 선언"
      ],
      "execution_count": 0,
      "outputs": []
    },
    {
      "cell_type": "code",
      "metadata": {
        "id": "8Dq98Lf8HSlw",
        "colab_type": "code",
        "colab": {
          "base_uri": "https://localhost:8080/",
          "height": 141
        },
        "outputId": "9944c106-4ae4-4c0a-d0f7-189039b1eca6"
      },
      "source": [
        "print(net.parameters)"
      ],
      "execution_count": 20,
      "outputs": [
        {
          "output_type": "stream",
          "text": [
            "<bound method Module.parameters of Net(\n",
            "  (conv1): Conv2d(1, 6, kernel_size=(5, 5), stride=(1, 1))\n",
            "  (conv2): Conv2d(6, 16, kernel_size=(5, 5), stride=(1, 1))\n",
            "  (fc1): Linear(in_features=256, out_features=120, bias=True)\n",
            "  (fc2): Linear(in_features=120, out_features=84, bias=True)\n",
            "  (fc3): Linear(in_features=84, out_features=10, bias=True)\n",
            ")>\n"
          ],
          "name": "stdout"
        }
      ]
    },
    {
      "cell_type": "markdown",
      "metadata": {
        "id": "yGliCRK_Hf-k",
        "colab_type": "text"
      },
      "source": [
        "###Update Weight\n",
        "\n",
        "#### net parameter\n",
        "레이어를 하나씩 불러와줌\n",
        "\n",
        "#### f.grad.data\n",
        "그 레이어에 기울기 값을 가져와줌\n",
        "\n",
        "####f.data.sub_\n",
        "w = w - lr * gd 이용해서 "
      ]
    },
    {
      "cell_type": "code",
      "metadata": {
        "id": "iuB5fn3EERFw",
        "colab_type": "code",
        "colab": {}
      },
      "source": [
        "learning_rate = 0.01\n",
        "\n",
        "for f in net.parameters():\n",
        "  f.data.sub_(f.grad.data * learning_rate)"
      ],
      "execution_count": 0,
      "outputs": []
    },
    {
      "cell_type": "code",
      "metadata": {
        "id": "x3jZlQbbFucb",
        "colab_type": "code",
        "colab": {}
      },
      "source": [
        "import torch.optim as optim\n",
        "\n",
        "optimizer = optim.SGD(net.parameters(), lr=0.01)\n",
        "\n",
        "optimizer.zero_grad() #그라디언트 버퍼 0으로 세팅\n",
        "ouput = net(input)\n",
        "loss = loss_fn(out, target)\n",
        "loss.backward()\n",
        "optimizer.step()"
      ],
      "execution_count": 0,
      "outputs": []
    },
    {
      "cell_type": "code",
      "metadata": {
        "id": "QuMQTM2iKtpn",
        "colab_type": "code",
        "colab": {}
      },
      "source": [
        ""
      ],
      "execution_count": 0,
      "outputs": []
    }
  ]
}